{
 "cells": [
  {
   "cell_type": "code",
   "execution_count": 68,
   "id": "b392f1fb",
   "metadata": {},
   "outputs": [],
   "source": [
    "import os\n",
    "import re"
   ]
  },
  {
   "cell_type": "markdown",
   "id": "ebfc2a16",
   "metadata": {
    "jp-MarkdownHeadingCollapsed": true
   },
   "source": [
    "### 红楼梦"
   ]
  },
  {
   "cell_type": "code",
   "execution_count": 382,
   "id": "fe6e0fcf",
   "metadata": {},
   "outputs": [],
   "source": [
    "num = \"\"\n",
    "\n",
    "file_name = \"红楼梦{0}.txt\".format(num)\n",
    "\n",
    "with open(file_name, \"r\") as file:\n",
    "    text = file.readlines()\n",
    "    text = \"\".join(text)"
   ]
  },
  {
   "cell_type": "code",
   "execution_count": 384,
   "id": "b8eaf850",
   "metadata": {},
   "outputs": [],
   "source": [
    "def number_to_chinese(num):\n",
    "    digit_dict = {\n",
    "        '0': '零', '1': '一', '2': '二', '3': '三', '4': '四',\n",
    "        '5': '五', '6': '六', '7': '七', '8': '八', '9': '九'\n",
    "    }\n",
    "    \n",
    "    unit_list = ['', '十', '百']  # 单位列表\n",
    "    \n",
    "    # 将数字转换为字符串\n",
    "    num_str = str(num)\n",
    "    \n",
    "    result = ''\n",
    "    count = 0\n",
    "    for i in range(len(num_str)-1, -1, -1):\n",
    "        digit = num_str[i]\n",
    "        if digit != '0':\n",
    "            result = digit_dict[digit] + unit_list[count] + result\n",
    "        elif result and result[0] != '零':\n",
    "            result = result\n",
    "        if count < len(unit_list)-1:\n",
    "            count += 1\n",
    "            \n",
    "    if result[:2] == \"一十\":\n",
    "        result = result[1:]\n",
    "        \n",
    "    if result[:4] == \"一百一十\":\n",
    "        result = \"一百十\"+result[4:]\n",
    "        \n",
    "    return result"
   ]
  },
  {
   "cell_type": "code",
   "execution_count": 386,
   "id": "bb08a5d1",
   "metadata": {},
   "outputs": [
    {
     "name": "stdout",
     "output_type": "stream",
     "text": [
      "120\n"
     ]
    }
   ],
   "source": [
    "text_dict = {}\n",
    "start = 1\n",
    "while True:\n",
    "    spliter = f\"第{number_to_chinese(start)}回 \"\n",
    "    result = text.split(spliter)\n",
    "    if len(result) == 2:\n",
    "        prev, text = result\n",
    "        if (start>1):\n",
    "            text_dict[f\"第{number_to_chinese(start-1)}回\"] = prev\n",
    "    else:\n",
    "        text_dict[f\"第{number_to_chinese(start-1)}回\"] = result[0]\n",
    "        break\n",
    "    # text = spliter + text\n",
    "    start+=1\n",
    "\n",
    "text_dict_copy = {}\n",
    "for key in text_dict:\n",
    "    key_copy = key\n",
    "    text_dict_copy[key_copy] = key + \" \" + text_dict[key]\n",
    "\n",
    "print(len(text_dict_copy))"
   ]
  },
  {
   "cell_type": "code",
   "execution_count": 388,
   "id": "65ff33fb",
   "metadata": {},
   "outputs": [],
   "source": [
    "\n",
    "for num in text_dict_copy:\n",
    "    file_name = \"./红楼梦/红楼梦{0}.txt\".format(num)\n",
    "    with open(file_name, \"w\") as file:\n",
    "        file.write(text_dict_copy[num])"
   ]
  },
  {
   "cell_type": "markdown",
   "id": "ea316f0b",
   "metadata": {
    "jp-MarkdownHeadingCollapsed": true
   },
   "source": [
    "### 三国演义"
   ]
  },
  {
   "cell_type": "code",
   "execution_count": 390,
   "id": "45455f14",
   "metadata": {},
   "outputs": [],
   "source": [
    "num = \"\"\n",
    "\n",
    "file_name = \"三国演义{0}.txt\".format(num)\n",
    "\n",
    "with open(file_name, \"r\") as file:\n",
    "    text = file.readlines()\n",
    "    text = \"\".join(text)"
   ]
  },
  {
   "cell_type": "code",
   "execution_count": 392,
   "id": "ac7d18c7",
   "metadata": {},
   "outputs": [],
   "source": [
    "def number_to_chinese(num):\n",
    "    digit_dict = {\n",
    "        '0': '零', '1': '一', '2': '二', '3': '三', '4': '四',\n",
    "        '5': '五', '6': '六', '7': '七', '8': '八', '9': '九'\n",
    "    }\n",
    "    \n",
    "    unit_list = ['', '十', '百']  # 单位列表\n",
    "    \n",
    "    # 将数字转换为字符串\n",
    "    num_str = str(num)\n",
    "    \n",
    "    result = ''\n",
    "    count = 0\n",
    "    for i in range(len(num_str)-1, -1, -1):\n",
    "        digit = num_str[i]\n",
    "        if digit != '0':\n",
    "            result = digit_dict[digit] + unit_list[count] + result\n",
    "        elif result and result[0] != '零':\n",
    "            result = result\n",
    "        if count < len(unit_list)-1:\n",
    "            count += 1\n",
    "            \n",
    "    if result[:2] == \"一十\":\n",
    "        result = result[1:]\n",
    "        \n",
    "    if result[:4] == \"一百一十\":\n",
    "        result = \"一百十\"+result[4:]\n",
    "        \n",
    "    return result"
   ]
  },
  {
   "cell_type": "code",
   "execution_count": 394,
   "id": "e07ff7df",
   "metadata": {},
   "outputs": [
    {
     "name": "stdout",
     "output_type": "stream",
     "text": [
      "120\n"
     ]
    }
   ],
   "source": [
    "text_dict = {}\n",
    "start = 1\n",
    "while True:\n",
    "    spliter = f\"第{number_to_chinese(start)}回 \"\n",
    "    result = text.split(spliter)\n",
    "    if len(result) == 2:\n",
    "        prev, text = result\n",
    "        if (start>1):\n",
    "            text_dict[f\"第{number_to_chinese(start-1)}回\"] = prev\n",
    "    else:\n",
    "        text_dict[f\"第{number_to_chinese(start-1)}回\"] = result[0]\n",
    "        break\n",
    "    # text = spliter + text\n",
    "    start+=1\n",
    "\n",
    "text_dict_copy = {}\n",
    "for key in text_dict:\n",
    "    key_copy = key\n",
    "    text_dict_copy[key_copy] = key + \" \" + text_dict[key]\n",
    "\n",
    "print(len(text_dict_copy))"
   ]
  },
  {
   "cell_type": "code",
   "execution_count": 408,
   "id": "ac2cef75",
   "metadata": {},
   "outputs": [],
   "source": [
    "for num in text_dict_copy:\n",
    "    file_name = \"./三国演义/三国演义{0}.txt\".format(num)\n",
    "    with open(file_name, \"w\") as file:\n",
    "        file.write(text_dict_copy[num])"
   ]
  },
  {
   "cell_type": "markdown",
   "id": "79f2ff92-ca01-4b62-8e5d-3d80df93c45d",
   "metadata": {
    "jp-MarkdownHeadingCollapsed": true
   },
   "source": [
    "### 百年孤独"
   ]
  },
  {
   "cell_type": "code",
   "execution_count": 418,
   "id": "28fb6c0f-1ba9-4af1-ade4-b1f222e17ce0",
   "metadata": {},
   "outputs": [],
   "source": [
    "num = \"\"\n",
    "\n",
    "file_name = \"百年孤独{0}.txt\".format(num)\n",
    "\n",
    "with open(file_name, \"r\") as file:\n",
    "    text = file.readlines()\n",
    "    text = \"\".join(text)"
   ]
  },
  {
   "cell_type": "code",
   "execution_count": 412,
   "id": "7357a1b7-59a3-482f-a049-fc10cd02ce6a",
   "metadata": {},
   "outputs": [],
   "source": [
    "def number_to_chinese(num):\n",
    "    digit_dict = {\n",
    "        '0': '零', '1': '一', '2': '二', '3': '三', '4': '四',\n",
    "        '5': '五', '6': '六', '7': '七', '8': '八', '9': '九'\n",
    "    }\n",
    "    \n",
    "    unit_list = ['', '十', '百']  # 单位列表\n",
    "    \n",
    "    # 将数字转换为字符串\n",
    "    num_str = str(num)\n",
    "    \n",
    "    result = ''\n",
    "    count = 0\n",
    "    for i in range(len(num_str)-1, -1, -1):\n",
    "        digit = num_str[i]\n",
    "        if digit != '0':\n",
    "            result = digit_dict[digit] + unit_list[count] + result\n",
    "        elif result and result[0] != '零':\n",
    "            result = result\n",
    "        if count < len(unit_list)-1:\n",
    "            count += 1\n",
    "            \n",
    "    if result[:2] == \"一十\":\n",
    "        result = result[1:]\n",
    "        \n",
    "    if result[:4] == \"一百一十\":\n",
    "        result = \"一百十\"+result[4:]\n",
    "        \n",
    "    return result"
   ]
  },
  {
   "cell_type": "code",
   "execution_count": 420,
   "id": "aa9d84a8-d4bc-46cb-8d2b-19e082f5295e",
   "metadata": {},
   "outputs": [
    {
     "name": "stdout",
     "output_type": "stream",
     "text": [
      "20\n"
     ]
    }
   ],
   "source": [
    "text_dict = {}\n",
    "start = 1\n",
    "while True:\n",
    "    spliter = f\"第{number_to_chinese(start)}章\"\n",
    "    result = text.split(spliter)\n",
    "    if len(result) == 2:\n",
    "        prev, text = result\n",
    "        if (start>1):\n",
    "            text_dict[f\"第{number_to_chinese(start-1)}章\"] = prev\n",
    "    else:\n",
    "        text_dict[f\"第{number_to_chinese(start-1)}章\"] = result[0]\n",
    "        break\n",
    "    # text = spliter + text\n",
    "    start+=1\n",
    "\n",
    "text_dict_copy = {}\n",
    "for key in text_dict:\n",
    "    key_copy = key\n",
    "    text_dict_copy[key_copy] = key + \" \" + text_dict[key]\n",
    "\n",
    "print(len(text_dict_copy))"
   ]
  },
  {
   "cell_type": "code",
   "execution_count": 70,
   "id": "032952b4-6290-43a2-9767-36a9bde0e27f",
   "metadata": {},
   "outputs": [],
   "source": [
    "os.mkdir(\"./百年孤独\")"
   ]
  },
  {
   "cell_type": "code",
   "execution_count": 424,
   "id": "80ca2d57-0e9f-4e81-86f0-eb026d33c648",
   "metadata": {},
   "outputs": [],
   "source": [
    "for num in text_dict_copy:\n",
    "    file_name = \"./百年孤独/百年孤独{0}.txt\".format(num)\n",
    "    with open(file_name, \"w\") as file:\n",
    "        file.write(text_dict_copy[num])"
   ]
  },
  {
   "cell_type": "markdown",
   "id": "8812cc78-55e9-444a-a8cd-fbc8415ec684",
   "metadata": {
    "jp-MarkdownHeadingCollapsed": true
   },
   "source": [
    "### 钢铁是怎样炼成的"
   ]
  },
  {
   "cell_type": "code",
   "execution_count": 452,
   "id": "fcb45024-2eb1-4112-a0aa-1a2faf5a54a2",
   "metadata": {},
   "outputs": [],
   "source": [
    "num = \"\"\n",
    "\n",
    "file_name = \"钢铁是怎样炼成的{0}.txt\".format(num)\n",
    "\n",
    "with open(file_name, \"r\") as file:\n",
    "    text = file.readlines()\n",
    "    text = \"\".join(text)"
   ]
  },
  {
   "cell_type": "code",
   "execution_count": 438,
   "id": "1a4ecab8-3049-48ad-a0c0-6f08e89d93d1",
   "metadata": {},
   "outputs": [],
   "source": [
    "def number_to_chinese(num):\n",
    "    digit_dict = {\n",
    "        '0': '零', '1': '一', '2': '二', '3': '三', '4': '四',\n",
    "        '5': '五', '6': '六', '7': '七', '8': '八', '9': '九'\n",
    "    }\n",
    "    \n",
    "    unit_list = ['', '十', '百']  # 单位列表\n",
    "    \n",
    "    # 将数字转换为字符串\n",
    "    num_str = str(num)\n",
    "    \n",
    "    result = ''\n",
    "    count = 0\n",
    "    for i in range(len(num_str)-1, -1, -1):\n",
    "        digit = num_str[i]\n",
    "        if digit != '0':\n",
    "            result = digit_dict[digit] + unit_list[count] + result\n",
    "        elif result and result[0] != '零':\n",
    "            result = result\n",
    "        if count < len(unit_list)-1:\n",
    "            count += 1\n",
    "            \n",
    "    if result[:2] == \"一十\":\n",
    "        result = result[1:]\n",
    "        \n",
    "    if result[:4] == \"一百一十\":\n",
    "        result = \"一百十\"+result[4:]\n",
    "        \n",
    "    return result"
   ]
  },
  {
   "cell_type": "code",
   "execution_count": 454,
   "id": "42c21935-f77f-49e2-80e2-104e8a85a4de",
   "metadata": {},
   "outputs": [],
   "source": [
    "text_dict = {}\n",
    "episode_start = 1\n",
    "flag = True\n",
    "while flag:\n",
    "    episode_spliter = f\"第{number_to_chinese(episode_start+1)}部\"\n",
    "    episode_result = text.split(episode_spliter)\n",
    "    \n",
    "    if len(episode_result) == 2:\n",
    "        prev, text2 = episode_result\n",
    "    else:\n",
    "        prev = episode_result[0]\n",
    "        flag = False\n",
    "    \n",
    "    start = 1\n",
    "    while True:\n",
    "        spliter = f\"第{start}章\"\n",
    "        result = prev.split(spliter)\n",
    "        if len(result) == 2:\n",
    "            prev, text = result\n",
    "            if (start>1):\n",
    "                text_dict[f\"第{number_to_chinese(episode_start)}部第{number_to_chinese(start-1)}章\"] = prev\n",
    "        else:\n",
    "            text_dict[f\"第{number_to_chinese(episode_start)}部第{number_to_chinese(start-1)}章\"] = result[0]\n",
    "            break\n",
    "        prev = text\n",
    "        start+=1\n",
    "\n",
    "    text = text2\n",
    "    episode_start += 1\n",
    "    \n",
    "text_dict_copy = {}\n",
    "for key in text_dict:\n",
    "    key_copy = key\n",
    "    text_dict_copy[key_copy] = key + \" \" + text_dict[key]"
   ]
  },
  {
   "cell_type": "code",
   "execution_count": 458,
   "id": "234867da-6580-4247-bb23-6a2922614852",
   "metadata": {},
   "outputs": [],
   "source": [
    "os.mkdir(\"./钢铁是怎样炼成的\")"
   ]
  },
  {
   "cell_type": "code",
   "execution_count": 462,
   "id": "89e966f6-351b-4104-bb61-2214a6328c97",
   "metadata": {},
   "outputs": [],
   "source": [
    "for num in text_dict_copy:\n",
    "    file_name = \"./钢铁是怎样炼成的/钢铁是怎样炼成的{0}.txt\".format(num)\n",
    "    with open(file_name, \"w\") as file:\n",
    "        file.write(text_dict_copy[num])"
   ]
  },
  {
   "cell_type": "markdown",
   "id": "5354c11f-954f-466a-858d-89a37a6d1eb0",
   "metadata": {
    "jp-MarkdownHeadingCollapsed": true
   },
   "source": [
    "### 简爱"
   ]
  },
  {
   "cell_type": "code",
   "execution_count": 500,
   "id": "6276cf6d-4488-42f8-963d-b1d4429783e5",
   "metadata": {},
   "outputs": [],
   "source": [
    "num = \"\"\n",
    "\n",
    "file_name = \"简爱{0}.txt\".format(num)\n",
    "\n",
    "with open(file_name, \"r\") as file:\n",
    "    text = file.readlines()\n",
    "    text = \"\".join(text)"
   ]
  },
  {
   "cell_type": "code",
   "execution_count": 502,
   "id": "55c9f83a-7804-46dc-a2cf-35fcd743506f",
   "metadata": {},
   "outputs": [],
   "source": [
    "def number_to_chinese(num):\n",
    "    digit_dict = {\n",
    "        '0': '零', '1': '一', '2': '二', '3': '三', '4': '四',\n",
    "        '5': '五', '6': '六', '7': '七', '8': '八', '9': '九'\n",
    "    }\n",
    "    \n",
    "    unit_list = ['', '十', '百']  # 单位列表\n",
    "    \n",
    "    # 将数字转换为字符串\n",
    "    num_str = str(num)\n",
    "    \n",
    "    result = ''\n",
    "    count = 0\n",
    "    for i in range(len(num_str)-1, -1, -1):\n",
    "        digit = num_str[i]\n",
    "        if digit != '0':\n",
    "            result = digit_dict[digit] + unit_list[count] + result\n",
    "        elif result and result[0] != '零':\n",
    "            result = result\n",
    "        if count < len(unit_list)-1:\n",
    "            count += 1\n",
    "            \n",
    "    if result[:2] == \"一十\":\n",
    "        result = result[1:]\n",
    "        \n",
    "    if result[:4] == \"一百一十\":\n",
    "        result = \"一百十\"+result[4:]\n",
    "        \n",
    "    return result"
   ]
  },
  {
   "cell_type": "code",
   "execution_count": 504,
   "id": "14ed24cd-fdd1-4bcf-b4e7-dd5a098ba1c2",
   "metadata": {},
   "outputs": [
    {
     "name": "stdout",
     "output_type": "stream",
     "text": [
      "38\n"
     ]
    }
   ],
   "source": [
    "text_dict = {}\n",
    "start = 1\n",
    "while True:\n",
    "    spliter = f\"第{number_to_chinese(start)}章\\n\"\n",
    "    result = text.split(spliter)\n",
    "    if len(result) == 2:\n",
    "        prev, text = result\n",
    "        if (start>1):\n",
    "            text_dict[f\"第{number_to_chinese(start-1)}章\"] = prev\n",
    "    else:\n",
    "        text_dict[f\"第{number_to_chinese(start-1)}章\"] = result[0]\n",
    "        break\n",
    "    # text = spliter + text\n",
    "    start+=1\n",
    "\n",
    "text_dict_copy = {}\n",
    "for key in text_dict:\n",
    "    key_copy = key\n",
    "    text_dict_copy[key_copy] = key + \" \" + text_dict[key]\n",
    "\n",
    "print(len(text_dict_copy))"
   ]
  },
  {
   "cell_type": "code",
   "execution_count": 506,
   "id": "beda7d0a-ba87-406b-8173-33b5ee8a4427",
   "metadata": {},
   "outputs": [],
   "source": [
    "os.mkdir(\"./简爱\")"
   ]
  },
  {
   "cell_type": "code",
   "execution_count": 508,
   "id": "0fe0376a-6fd1-4693-bc21-ca210ada3e87",
   "metadata": {},
   "outputs": [],
   "source": [
    "for num in text_dict_copy:\n",
    "    file_name = \"./简爱/简爱{0}.txt\".format(num)\n",
    "    with open(file_name, \"w\") as file:\n",
    "        file.write(text_dict_copy[num])"
   ]
  },
  {
   "cell_type": "markdown",
   "id": "9a88c335-0b4b-4efa-bdbc-e3a4cdaf5d41",
   "metadata": {
    "jp-MarkdownHeadingCollapsed": true
   },
   "source": [
    "### 老人与海"
   ]
  },
  {
   "cell_type": "code",
   "execution_count": 513,
   "id": "73c726ce-d4db-4cf2-acfa-e15c882ec210",
   "metadata": {},
   "outputs": [],
   "source": [
    "num = \"\"\n",
    "\n",
    "file_name = \"老人与海{0}.txt\".format(num)\n",
    "\n",
    "with open(file_name, \"r\") as file:\n",
    "    text = file.readlines()\n",
    "    text = \"\".join(text)"
   ]
  },
  {
   "cell_type": "code",
   "execution_count": 502,
   "id": "010820f0-e2c1-444b-bb05-f496423f7e1f",
   "metadata": {},
   "outputs": [],
   "source": [
    "def number_to_chinese(num):\n",
    "    digit_dict = {\n",
    "        '0': '零', '1': '一', '2': '二', '3': '三', '4': '四',\n",
    "        '5': '五', '6': '六', '7': '七', '8': '八', '9': '九'\n",
    "    }\n",
    "    \n",
    "    unit_list = ['', '十', '百']  # 单位列表\n",
    "    \n",
    "    # 将数字转换为字符串\n",
    "    num_str = str(num)\n",
    "    \n",
    "    result = ''\n",
    "    count = 0\n",
    "    for i in range(len(num_str)-1, -1, -1):\n",
    "        digit = num_str[i]\n",
    "        if digit != '0':\n",
    "            result = digit_dict[digit] + unit_list[count] + result\n",
    "        elif result and result[0] != '零':\n",
    "            result = result\n",
    "        if count < len(unit_list)-1:\n",
    "            count += 1\n",
    "            \n",
    "    if result[:2] == \"一十\":\n",
    "        result = result[1:]\n",
    "        \n",
    "    if result[:4] == \"一百一十\":\n",
    "        result = \"一百十\"+result[4:]\n",
    "        \n",
    "    return result"
   ]
  },
  {
   "cell_type": "code",
   "execution_count": 515,
   "id": "e63bb789-132a-41ed-b0de-61bfb49977b1",
   "metadata": {},
   "outputs": [
    {
     "name": "stdout",
     "output_type": "stream",
     "text": [
      "4\n"
     ]
    }
   ],
   "source": [
    "text_dict = {}\n",
    "start = 1\n",
    "episode_start = 1\n",
    "title_list = []\n",
    "while True:\n",
    "    spliter = f\"第{number_to_chinese(episode_start)}卷 第{number_to_chinese(start)}章\"\n",
    "    result = text.split(spliter)\n",
    "    if len(result) == 2:\n",
    "        prev, text = result\n",
    "        if (start>1 or episode_start>1):\n",
    "            text_dict[title_list[-1]] = prev\n",
    "    else: \n",
    "        spliter = f\"第{number_to_chinese(episode_start+1)}卷 第一章\"\n",
    "        if not spliter in text:\n",
    "            text_dict[title_list[-1]] = result[0]\n",
    "            break\n",
    "        else:\n",
    "            start = 1\n",
    "            episode_start += 1\n",
    "            spliter = f\"第{number_to_chinese(episode_start)}卷 第{number_to_chinese(start)}章\"\n",
    "            result = text.split(spliter)\n",
    "            prev, text = result\n",
    "            text_dict[title_list[-1]] = prev\n",
    "\n",
    "    title_list.append(spliter)\n",
    "            \n",
    "    # text = spliter + text\n",
    "    start+=1\n",
    "\n",
    "text_dict_copy = {}\n",
    "for key in text_dict:\n",
    "    key_copy = key\n",
    "    text_dict_copy[key_copy] = key + \" \" + text_dict[key]\n",
    "\n",
    "print(len(text_dict_copy))"
   ]
  },
  {
   "cell_type": "code",
   "execution_count": 523,
   "id": "b1b7db14-595f-4e37-8388-91b6da2ec291",
   "metadata": {},
   "outputs": [],
   "source": [
    "os.mkdir(\"./老人与海\")"
   ]
  },
  {
   "cell_type": "code",
   "execution_count": 525,
   "id": "6da913cc-152c-4a10-8538-ef9d61e03d0b",
   "metadata": {},
   "outputs": [],
   "source": [
    "for num in text_dict_copy:\n",
    "    file_name = \"./老人与海/老人与海{0}.txt\".format(num)\n",
    "    with open(file_name, \"w\") as file:\n",
    "        file.write(text_dict_copy[num])"
   ]
  },
  {
   "cell_type": "markdown",
   "id": "a9354f52-9e92-434f-8808-8fa5542bf041",
   "metadata": {
    "jp-MarkdownHeadingCollapsed": true
   },
   "source": [
    "### 乱世佳人"
   ]
  },
  {
   "cell_type": "code",
   "execution_count": 528,
   "id": "6efb8452-ce36-41cb-9e66-208b62afaa73",
   "metadata": {},
   "outputs": [],
   "source": [
    "num = \"\"\n",
    "\n",
    "file_name = \"乱世佳人{0}.txt\".format(num)\n",
    "\n",
    "with open(file_name, \"r\") as file:\n",
    "    text = file.readlines()\n",
    "    text = \"\".join(text)"
   ]
  },
  {
   "cell_type": "code",
   "execution_count": 530,
   "id": "eeda688b-7977-4707-8ca4-09cc5b391457",
   "metadata": {},
   "outputs": [],
   "source": [
    "def number_to_chinese(num):\n",
    "    digit_dict = {\n",
    "        '0': '零', '1': '一', '2': '二', '3': '三', '4': '四',\n",
    "        '5': '五', '6': '六', '7': '七', '8': '八', '9': '九'\n",
    "    }\n",
    "    \n",
    "    unit_list = ['', '十', '百']  # 单位列表\n",
    "    \n",
    "    # 将数字转换为字符串\n",
    "    num_str = str(num)\n",
    "    \n",
    "    result = ''\n",
    "    count = 0\n",
    "    for i in range(len(num_str)-1, -1, -1):\n",
    "        digit = num_str[i]\n",
    "        if digit != '0':\n",
    "            result = digit_dict[digit] + unit_list[count] + result\n",
    "        elif result and result[0] != '零':\n",
    "            result = result\n",
    "        if count < len(unit_list)-1:\n",
    "            count += 1\n",
    "            \n",
    "    if result[:2] == \"一十\":\n",
    "        result = result[1:]\n",
    "        \n",
    "    if result[:4] == \"一百一十\":\n",
    "        result = \"一百十\"+result[4:]\n",
    "        \n",
    "    return result"
   ]
  },
  {
   "cell_type": "code",
   "execution_count": 532,
   "id": "cfc0a0a2-692a-4d10-bbce-ab244588f15e",
   "metadata": {},
   "outputs": [
    {
     "name": "stdout",
     "output_type": "stream",
     "text": [
      "63\n"
     ]
    }
   ],
   "source": [
    "text_dict = {}\n",
    "start = 1\n",
    "while True:\n",
    "    spliter = f\"第{number_to_chinese(start)}章\\n\"\n",
    "    result = text.split(spliter)\n",
    "    if len(result) == 2:\n",
    "        prev, text = result\n",
    "        if (start>1):\n",
    "            text_dict[f\"第{number_to_chinese(start-1)}章\"] = prev\n",
    "    else:\n",
    "        text_dict[f\"第{number_to_chinese(start-1)}章\"] = result[0]\n",
    "        break\n",
    "    # text = spliter + text\n",
    "    start+=1\n",
    "\n",
    "text_dict_copy = {}\n",
    "for key in text_dict:\n",
    "    key_copy = key\n",
    "    text_dict_copy[key_copy] = key + \" \" + text_dict[key]\n",
    "\n",
    "print(len(text_dict_copy))"
   ]
  },
  {
   "cell_type": "code",
   "execution_count": 534,
   "id": "d37f5a2f-012c-458d-a201-ac97b2dddb57",
   "metadata": {},
   "outputs": [],
   "source": [
    "os.mkdir(\"./乱世佳人\")"
   ]
  },
  {
   "cell_type": "code",
   "execution_count": 536,
   "id": "61538807-81bf-4635-9838-8b42502276a7",
   "metadata": {},
   "outputs": [],
   "source": [
    "for num in text_dict_copy:\n",
    "    file_name = \"./乱世佳人/乱世佳人{0}.txt\".format(num)\n",
    "    with open(file_name, \"w\") as file:\n",
    "        file.write(text_dict_copy[num])"
   ]
  },
  {
   "cell_type": "markdown",
   "id": "9eddcebc-6412-41e3-8966-1b8052bfeaae",
   "metadata": {
    "jp-MarkdownHeadingCollapsed": true
   },
   "source": [
    "### 呐喊"
   ]
  },
  {
   "cell_type": "code",
   "execution_count": 33,
   "id": "dabd74f7-78b4-4a86-bcc0-417c2f8e7366",
   "metadata": {},
   "outputs": [],
   "source": [
    "num = \"\"\n",
    "\n",
    "file_name = \"呐喊{0}.txt\".format(num)\n",
    "\n",
    "with open(file_name, \"r\") as file:\n",
    "    text = file.readlines()\n",
    "    text = \"\".join(text)"
   ]
  },
  {
   "cell_type": "code",
   "execution_count": 35,
   "id": "d589b112-7cdc-42ca-a094-1be61e0c469a",
   "metadata": {},
   "outputs": [],
   "source": [
    "def number_to_chinese(num):\n",
    "    digit_dict = {\n",
    "        '0': '零', '1': '一', '2': '二', '3': '三', '4': '四',\n",
    "        '5': '五', '6': '六', '7': '七', '8': '八', '9': '九'\n",
    "    }\n",
    "    \n",
    "    unit_list = ['', '十', '百']  # 单位列表\n",
    "    \n",
    "    # 将数字转换为字符串\n",
    "    num_str = str(num)\n",
    "    \n",
    "    result = ''\n",
    "    count = 0\n",
    "    for i in range(len(num_str)-1, -1, -1):\n",
    "        digit = num_str[i]\n",
    "        if digit != '0':\n",
    "            result = digit_dict[digit] + unit_list[count] + result\n",
    "        elif result and result[0] != '零':\n",
    "            result = result\n",
    "        if count < len(unit_list)-1:\n",
    "            count += 1\n",
    "            \n",
    "    if result[:2] == \"一十\":\n",
    "        result = result[1:]\n",
    "        \n",
    "    if result[:4] == \"一百一十\":\n",
    "        result = \"一百十\"+result[4:]\n",
    "        \n",
    "    return result"
   ]
  },
  {
   "cell_type": "code",
   "execution_count": 37,
   "id": "0e8221a8-4bd9-4369-a8d6-c9e275473e18",
   "metadata": {},
   "outputs": [
    {
     "name": "stdout",
     "output_type": "stream",
     "text": [
      "14\n"
     ]
    }
   ],
   "source": [
    "text_dict = {}\n",
    "start = 1\n",
    "while True:\n",
    "    spliter = f\"第{number_to_chinese(start)}篇 \"\n",
    "    result = text.split(spliter)\n",
    "    if len(result) == 2:\n",
    "        prev, text = result\n",
    "        name = prev.split(\"\\n\")[0]\n",
    "        if (start>1):\n",
    "            text_dict[f\"第{number_to_chinese(start-1)}篇《{name}》\"] = prev\n",
    "    else:\n",
    "        name = result[0].split(\"\\n\")[0]\n",
    "        text_dict[f\"第{number_to_chinese(start-1)}篇《{name}》\"] = result[0]\n",
    "        break\n",
    "    # text = spliter + text\n",
    "    start+=1\n",
    "\n",
    "text_dict_copy = {}\n",
    "for key in text_dict:\n",
    "    key_copy = key\n",
    "    text_dict_copy[key_copy] = key + \" \" + text_dict[key]\n",
    "\n",
    "print(len(text_dict_copy))"
   ]
  },
  {
   "cell_type": "code",
   "execution_count": 43,
   "id": "dfa3ce37-045d-4f94-ab87-8f555386976e",
   "metadata": {},
   "outputs": [
    {
     "ename": "NameError",
     "evalue": "name 'os' is not defined",
     "output_type": "error",
     "traceback": [
      "\u001b[0;31m---------------------------------------------------------------------------\u001b[0m",
      "\u001b[0;31mNameError\u001b[0m                                 Traceback (most recent call last)",
      "Cell \u001b[0;32mIn[43], line 1\u001b[0m\n\u001b[0;32m----> 1\u001b[0m os\u001b[38;5;241m.\u001b[39mmkdir(\u001b[38;5;124m\"\u001b[39m\u001b[38;5;124m./呐喊\u001b[39m\u001b[38;5;124m\"\u001b[39m)\n",
      "\u001b[0;31mNameError\u001b[0m: name 'os' is not defined"
     ]
    }
   ],
   "source": [
    "os.mkdir(\"./呐喊\")"
   ]
  },
  {
   "cell_type": "code",
   "execution_count": 45,
   "id": "fff7da44-55c1-4a75-80d3-f09a8b9b6da4",
   "metadata": {},
   "outputs": [],
   "source": [
    "for num in text_dict_copy:\n",
    "    file_name = \"./呐喊/呐喊{0}.txt\".format(num)\n",
    "    with open(file_name, \"w\") as file:\n",
    "        file.write(text_dict_copy[num])"
   ]
  },
  {
   "cell_type": "markdown",
   "id": "01e562df-5c8f-40b7-90c0-4a01f1a1365f",
   "metadata": {
    "jp-MarkdownHeadingCollapsed": true
   },
   "source": [
    "### 活着"
   ]
  },
  {
   "cell_type": "code",
   "execution_count": 558,
   "id": "f63452f7-50aa-4445-8a86-e2adf919bfa6",
   "metadata": {},
   "outputs": [],
   "source": [
    "num = \"\"\n",
    "\n",
    "file_name = \"活着{0}.txt\".format(num)\n",
    "\n",
    "with open(file_name, \"r\") as file:\n",
    "    text = file.readlines()\n",
    "    text = \"\".join(text)"
   ]
  },
  {
   "cell_type": "code",
   "execution_count": 560,
   "id": "5741b6b7-4a42-4821-9a06-6abe8bf03d8c",
   "metadata": {},
   "outputs": [],
   "source": [
    "def number_to_chinese(num):\n",
    "    digit_dict = {\n",
    "        '0': '零', '1': '一', '2': '二', '3': '三', '4': '四',\n",
    "        '5': '五', '6': '六', '7': '七', '8': '八', '9': '九'\n",
    "    }\n",
    "    \n",
    "    unit_list = ['', '十', '百']  # 单位列表\n",
    "    \n",
    "    # 将数字转换为字符串\n",
    "    num_str = str(num)\n",
    "    \n",
    "    result = ''\n",
    "    count = 0\n",
    "    for i in range(len(num_str)-1, -1, -1):\n",
    "        digit = num_str[i]\n",
    "        if digit != '0':\n",
    "            result = digit_dict[digit] + unit_list[count] + result\n",
    "        elif result and result[0] != '零':\n",
    "            result = result\n",
    "        if count < len(unit_list)-1:\n",
    "            count += 1\n",
    "            \n",
    "    if result[:2] == \"一十\":\n",
    "        result = result[1:]\n",
    "        \n",
    "    if result[:4] == \"一百一十\":\n",
    "        result = \"一百十\"+result[4:]\n",
    "        \n",
    "    return result"
   ]
  },
  {
   "cell_type": "code",
   "execution_count": 562,
   "id": "4db6830c-99db-4736-92b6-350ab58101fb",
   "metadata": {},
   "outputs": [
    {
     "name": "stdout",
     "output_type": "stream",
     "text": [
      "4\n"
     ]
    }
   ],
   "source": [
    "text_dict = {}\n",
    "start = 1\n",
    "while True:\n",
    "    spliter = f\"第{number_to_chinese(start)}章\\n\"\n",
    "    result = text.split(spliter)\n",
    "    if len(result) == 2:\n",
    "        prev, text = result\n",
    "        if (start>1):\n",
    "            text_dict[f\"第{number_to_chinese(start-1)}章\"] = prev\n",
    "    else:\n",
    "        text_dict[f\"第{number_to_chinese(start-1)}章\"] = result[0]\n",
    "        break\n",
    "    # text = spliter + text\n",
    "    start+=1\n",
    "\n",
    "text_dict_copy = {}\n",
    "for key in text_dict:\n",
    "    key_copy = key\n",
    "    text_dict_copy[key_copy] = key + \" \" + text_dict[key]\n",
    "\n",
    "print(len(text_dict_copy))"
   ]
  },
  {
   "cell_type": "code",
   "execution_count": 564,
   "id": "884791d4-defc-47c0-9a48-94499b5e3ec7",
   "metadata": {},
   "outputs": [],
   "source": [
    "os.mkdir(\"./活着\")"
   ]
  },
  {
   "cell_type": "code",
   "execution_count": 566,
   "id": "1c0681b0-a5c6-4858-b990-ae04b736c34b",
   "metadata": {},
   "outputs": [],
   "source": [
    "for num in text_dict_copy:\n",
    "    file_name = \"./活着/活着{0}.txt\".format(num)\n",
    "    with open(file_name, \"w\") as file:\n",
    "        file.write(text_dict_copy[num])"
   ]
  },
  {
   "cell_type": "markdown",
   "id": "1dec8b39-cd81-420d-92cf-d23ca9f133f7",
   "metadata": {
    "jp-MarkdownHeadingCollapsed": true
   },
   "source": [
    "### 西游记"
   ]
  },
  {
   "cell_type": "code",
   "execution_count": 569,
   "id": "7192fa0b-2f9b-49eb-9481-fca04f739055",
   "metadata": {},
   "outputs": [],
   "source": [
    "num = \"\"\n",
    "\n",
    "file_name = \"西游记{0}.txt\".format(num)\n",
    "\n",
    "with open(file_name, \"r\") as file:\n",
    "    text = file.readlines()\n",
    "    text = \"\".join(text)"
   ]
  },
  {
   "cell_type": "code",
   "execution_count": 571,
   "id": "d02153c2-b0aa-4022-b839-d4753d367970",
   "metadata": {},
   "outputs": [],
   "source": [
    "def number_to_chinese(num):\n",
    "    digit_dict = {\n",
    "        '0': '零', '1': '一', '2': '二', '3': '三', '4': '四',\n",
    "        '5': '五', '6': '六', '7': '七', '8': '八', '9': '九'\n",
    "    }\n",
    "    \n",
    "    unit_list = ['', '十', '百']  # 单位列表\n",
    "    \n",
    "    # 将数字转换为字符串\n",
    "    num_str = str(num)\n",
    "    \n",
    "    result = ''\n",
    "    count = 0\n",
    "    for i in range(len(num_str)-1, -1, -1):\n",
    "        digit = num_str[i]\n",
    "        if digit != '0':\n",
    "            result = digit_dict[digit] + unit_list[count] + result\n",
    "        elif result and result[0] != '零':\n",
    "            result = result\n",
    "        if count < len(unit_list)-1:\n",
    "            count += 1\n",
    "            \n",
    "    if result[:2] == \"一十\":\n",
    "        result = result[1:]\n",
    "        \n",
    "    if result[:4] == \"一百一十\":\n",
    "        result = \"一百十\"+result[4:]\n",
    "        \n",
    "    return result"
   ]
  },
  {
   "cell_type": "code",
   "execution_count": 573,
   "id": "fa6eba55-cbee-4bbb-871f-6df4336968a1",
   "metadata": {},
   "outputs": [
    {
     "name": "stdout",
     "output_type": "stream",
     "text": [
      "100\n"
     ]
    }
   ],
   "source": [
    "text_dict = {}\n",
    "start = 1\n",
    "while True:\n",
    "    spliter = f\"第{number_to_chinese(start)}回 \"\n",
    "    result = text.split(spliter)\n",
    "    if len(result) == 2:\n",
    "        prev, text = result\n",
    "        if (start>1):\n",
    "            text_dict[f\"第{number_to_chinese(start-1)}回\"] = prev\n",
    "    else:\n",
    "        text_dict[f\"第{number_to_chinese(start-1)}回\"] = result[0]\n",
    "        break\n",
    "    # text = spliter + text\n",
    "    start+=1\n",
    "\n",
    "text_dict_copy = {}\n",
    "for key in text_dict:\n",
    "    key_copy = key\n",
    "    text_dict_copy[key_copy] = key + \" \" + text_dict[key]\n",
    "\n",
    "print(len(text_dict_copy))"
   ]
  },
  {
   "cell_type": "code",
   "execution_count": 577,
   "id": "892a82d3-82a1-4dbb-ae54-f77bbc7b6ed6",
   "metadata": {},
   "outputs": [],
   "source": [
    "os.mkdir(\"./西游记\")"
   ]
  },
  {
   "cell_type": "code",
   "execution_count": 579,
   "id": "d8c53c14-69c8-41d1-8667-00ecff6e076d",
   "metadata": {},
   "outputs": [],
   "source": [
    "for num in text_dict_copy:\n",
    "    file_name = \"./西游记/西游记{0}.txt\".format(num)\n",
    "    with open(file_name, \"w\") as file:\n",
    "        file.write(text_dict_copy[num])"
   ]
  },
  {
   "cell_type": "code",
   "execution_count": null,
   "id": "74f0ff6e-4918-4991-880f-8e5f2f88c296",
   "metadata": {},
   "outputs": [],
   "source": []
  }
 ],
 "metadata": {
  "kernelspec": {
   "display_name": "Python 3 (ipykernel)",
   "language": "python",
   "name": "python3"
  },
  "language_info": {
   "codemirror_mode": {
    "name": "ipython",
    "version": 3
   },
   "file_extension": ".py",
   "mimetype": "text/x-python",
   "name": "python",
   "nbconvert_exporter": "python",
   "pygments_lexer": "ipython3",
   "version": "3.12.4"
  }
 },
 "nbformat": 4,
 "nbformat_minor": 5
}
